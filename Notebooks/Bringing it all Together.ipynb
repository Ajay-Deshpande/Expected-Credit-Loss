{
 "cells": [
  {
   "cell_type": "code",
   "execution_count": 1,
   "id": "cc20298c",
   "metadata": {},
   "outputs": [],
   "source": [
    "import pandas as pd\n",
    "import numpy as np\n",
    "from plotly import express as px\n",
    "from matplotlib import pyplot as plt\n",
    "import dill\n",
    "from glob import glob\n",
    "import re\n",
    "from tqdm import tqdm"
   ]
  },
  {
   "cell_type": "code",
   "execution_count": 2,
   "id": "5d671702",
   "metadata": {},
   "outputs": [],
   "source": [
    "def load_models():\n",
    "    model_dict = dict()\n",
    "    for model_path in glob('../Models/*'):\n",
    "        with open(model_path, 'rb') as f:\n",
    "            model = model_path.split('\\\\')[-1].split('_')[0]\n",
    "            model_dict[model] = {\"model\" : dill.load(f)}\n",
    "            model_dict[model]['required_columns'] = model_dict[model]['model'].feature_names_in_\n",
    "    return model_dict"
   ]
  },
  {
   "cell_type": "code",
   "execution_count": 3,
   "id": "2700949f",
   "metadata": {},
   "outputs": [],
   "source": [
    "models = load_models()"
   ]
  },
  {
   "cell_type": "code",
   "execution_count": 4,
   "id": "a549e7d9",
   "metadata": {},
   "outputs": [],
   "source": [
    "data = pd.read_csv('../Data/cleaned_data.csv', low_memory = False)\n",
    "date_cols = [\"EOMDate\", \"EOMOpenDt_YrMo\", \"EOMCloseDt_YrMo\", \"EOMMaturityDt_YrMo\", \"EOMDefaultDt_YrMO\"]\n",
    "data[date_cols] = data[date_cols].apply(pd.to_datetime)"
   ]
  },
  {
   "cell_type": "code",
   "execution_count": 5,
   "id": "e6db2679",
   "metadata": {},
   "outputs": [],
   "source": [
    "def create_snapshot(data, snapshot_min_year = \"2008-12-31\"):\n",
    "    closed_defaulted_acc = data.loc[(data.EOMCloseDt_YrMo < snapshot_min_year) | \\\n",
    "                                    (data.EOMDefaultDt_YrMO < snapshot_min_year), 'AcctID'].unique().tolist()\n",
    "\n",
    "    snapshot_data = data[(data.EOMMaturityDt_YrMo >= snapshot_min_year) & \n",
    "                           (data.EOMOpenDt_YrMo <= snapshot_min_year) & \n",
    "                           ~(data.AcctID.isin(closed_defaulted_acc)) & \n",
    "                            (data.EOMDate >= snapshot_min_year)]\n",
    "    \n",
    "    return snapshot_data"
   ]
  },
  {
   "cell_type": "code",
   "execution_count": 6,
   "id": "92c322f2",
   "metadata": {},
   "outputs": [],
   "source": [
    "snapshot_data = create_snapshot(data, \"2008-12-31\")"
   ]
  },
  {
   "cell_type": "code",
   "execution_count": 7,
   "id": "f34776b2",
   "metadata": {},
   "outputs": [],
   "source": [
    "def get_all_predictions(snapshot_data, models):\n",
    "    predictions = models['PA']['model'].predict_proba(snapshot_data[models['PA']['required_columns']])\n",
    "    A_preds = pd.DataFrame(predictions, columns = ['A-A', 'A-B', 'A-C', 'A-D', 'A-E'], index = snapshot_data.index)\n",
    "\n",
    "    predictions = models['PB']['model'].predict_proba(snapshot_data[models['PB']['required_columns']])\n",
    "    B_preds = pd.DataFrame(predictions, columns = ['B-A', 'B-B', 'B-C', 'B-D', 'B-E'], index = snapshot_data.index)\n",
    "    \n",
    "    predictions = models['PC']['model'].predict_proba(snapshot_data[models['PC']['required_columns']])\n",
    "    C_preds = pd.DataFrame(predictions, columns = ['C-A', 'C-B', 'C-C', 'C-D', 'C-E'], index = snapshot_data.index)\n",
    "    \n",
    "    EAD_preds = pd.DataFrame(models['EAD']['model'].predict(snapshot_data[models['EAD']['required_columns']]),\n",
    "                                              columns = ['EAD_pred'], index = snapshot_data.index)\n",
    "    LGD_preds = pd.DataFrame(models['LGD']['model'].predict(snapshot_data[models['LGD']['required_columns']]),\n",
    "                                              columns = ['recovery_rate_pred'], index = snapshot_data.index)\n",
    "    \n",
    "    return pd.concat([snapshot_data, A_preds, B_preds, C_preds, EAD_preds, LGD_preds], axis = 1)"
   ]
  },
  {
   "cell_type": "code",
   "execution_count": 8,
   "id": "904a8ec8",
   "metadata": {},
   "outputs": [
    {
     "name": "stderr",
     "output_type": "stream",
     "text": [
      "C:\\Users\\ajayd\\anaconda3\\Lib\\site-packages\\sklearn\\preprocessing\\_encoders.py:241: UserWarning: Found unknown categories in columns [0, 1] during transform. These unknown categories will be encoded as all zeros\n",
      "  warnings.warn(\n",
      "C:\\Users\\ajayd\\anaconda3\\Lib\\site-packages\\sklearn\\preprocessing\\_encoders.py:241: UserWarning: Found unknown categories in columns [0, 1] during transform. These unknown categories will be encoded as all zeros\n",
      "  warnings.warn(\n",
      "C:\\Users\\ajayd\\anaconda3\\Lib\\site-packages\\sklearn\\preprocessing\\_encoders.py:241: UserWarning: Found unknown categories in columns [0, 1] during transform. These unknown categories will be encoded as all zeros\n",
      "  warnings.warn(\n",
      "C:\\Users\\ajayd\\anaconda3\\Lib\\site-packages\\sklearn\\preprocessing\\_encoders.py:241: UserWarning: Found unknown categories in columns [0, 1] during transform. These unknown categories will be encoded as all zeros\n",
      "  warnings.warn(\n",
      "C:\\Users\\ajayd\\anaconda3\\Lib\\site-packages\\sklearn\\preprocessing\\_encoders.py:241: UserWarning: Found unknown categories in columns [1] during transform. These unknown categories will be encoded as all zeros\n",
      "  warnings.warn(\n"
     ]
    }
   ],
   "source": [
    "forecast_df = get_all_predictions(snapshot_data, models)"
   ]
  },
  {
   "cell_type": "code",
   "execution_count": 9,
   "id": "b5af39a0",
   "metadata": {},
   "outputs": [],
   "source": [
    "forecast_df = forecast_df.sort_values(by = ['AcctID', 'EOMDate']).reset_index(drop = True)\n",
    "acct_record_min_date = forecast_df.groupby(['AcctID'])['EOMDate'].min().reset_index()\n",
    "forecast_df = forecast_df.merge(acct_record_min_date.rename(columns = {'EOMDate' : 'EOMFirst_Record_Date'}))"
   ]
  },
  {
   "cell_type": "code",
   "execution_count": 10,
   "id": "7e904347",
   "metadata": {},
   "outputs": [],
   "source": [
    "forecast_df['PA'] = np.NaN\n",
    "forecast_df['PB'] = np.NaN\n",
    "forecast_df['PC'] = np.NaN\n",
    "forecast_df['PD'] = np.NaN\n",
    "forecast_df['PE'] = np.NaN"
   ]
  },
  {
   "cell_type": "code",
   "execution_count": 11,
   "id": "6f495174",
   "metadata": {},
   "outputs": [],
   "source": [
    "# 95% of the loan accounts in the snapshot starts in A class. For sake of simplying the calculations we will assume the same\n",
    "forecast_df.loc[forecast_df.EOMDate == forecast_df.EOMFirst_Record_Date, \n",
    "        ['PA', \"PB\", 'PC', 'PD', 'PE']] = forecast_df.loc[forecast_df.EOMDate == forecast_df.EOMFirst_Record_Date, \n",
    "                                                    ['A-A', \"A-B\", 'A-C', 'A-D', 'A-E']].values"
   ]
  },
  {
   "cell_type": "code",
   "execution_count": 12,
   "id": "26a28573",
   "metadata": {},
   "outputs": [],
   "source": [
    "abc = forecast_df.copy(deep = True)"
   ]
  },
  {
   "cell_type": "code",
   "execution_count": 13,
   "id": "e67e2201",
   "metadata": {},
   "outputs": [
    {
     "name": "stderr",
     "output_type": "stream",
     "text": [
      "100%|███████████████████████████████████████████████████████████████████████████| 25790/25790 [00:59<00:00, 430.89it/s]\n"
     ]
    }
   ],
   "source": [
    "for ind, row in tqdm(forecast_df.iterrows(), total = forecast_df.shape[0]):\n",
    "    if not np.isnan(row['PA']):\n",
    "        continue\n",
    "    \n",
    "    forecast_df.loc[ind, 'PA'] = (forecast_df.loc[ind - 1, 'PA'] * forecast_df.loc[ind, 'A-A'] +\n",
    "                            forecast_df.loc[ind - 1, 'PB'] * forecast_df.loc[ind, 'B-A'] + \n",
    "                            forecast_df.loc[ind - 1, 'PC'] * forecast_df.loc[ind, 'C-A']) / \\\n",
    "                        (forecast_df.loc[ind - 1, 'PA'] + forecast_df.loc[ind - 1, 'PB'] + forecast_df.loc[ind - 1, 'PC'])\n",
    "        \n",
    "    forecast_df.loc[ind, 'PB'] = (forecast_df.loc[ind - 1, 'PA'] * forecast_df.loc[ind, 'A-B'] +\n",
    "                            forecast_df.loc[ind - 1, 'PB'] * forecast_df.loc[ind, 'B-B'] + \n",
    "                            forecast_df.loc[ind - 1, 'PC'] * forecast_df.loc[ind, 'C-B']) / \\\n",
    "                         (forecast_df.loc[ind - 1, 'PA'] + forecast_df.loc[ind - 1, 'PB'] + forecast_df.loc[ind - 1, 'PC'])\n",
    "        \n",
    "    forecast_df.loc[ind, 'PC'] = (forecast_df.loc[ind - 1, 'PA'] * forecast_df.loc[ind, 'A-C'] +\n",
    "                            forecast_df.loc[ind - 1, 'PB'] * forecast_df.loc[ind, 'B-C'] + \n",
    "                            forecast_df.loc[ind - 1, 'PC'] * forecast_df.loc[ind, 'C-C']) / \\\n",
    "                        (forecast_df.loc[ind - 1, 'PA'] + forecast_df.loc[ind - 1, 'PB'] + forecast_df.loc[ind - 1, 'PC'])\n",
    "        \n",
    "    forecast_df.loc[ind, 'PD'] = (forecast_df.loc[ind - 1, 'PA'] * forecast_df.loc[ind, 'A-D'] +\n",
    "                            forecast_df.loc[ind - 1, 'PB'] * forecast_df.loc[ind, 'B-D'] + \n",
    "                            forecast_df.loc[ind - 1, 'PC'] * forecast_df.loc[ind, 'C-D']) / \\\n",
    "                        (forecast_df.loc[ind - 1, 'PA'] + forecast_df.loc[ind - 1, 'PB'] + forecast_df.loc[ind - 1, 'PC'])\n",
    "        \n",
    "    forecast_df.loc[ind, 'PE'] = (forecast_df.loc[ind - 1, 'PA'] * forecast_df.loc[ind, 'A-E'] +\n",
    "                            forecast_df.loc[ind - 1, 'PB'] * forecast_df.loc[ind, 'B-E'] +\n",
    "                            forecast_df.loc[ind - 1, 'PC'] * forecast_df.loc[ind, 'C-E']) / \\\n",
    "                        (forecast_df.loc[ind - 1, 'PA'] + forecast_df.loc[ind - 1, 'PB'] + forecast_df.loc[ind - 1, 'PC'])"
   ]
  },
  {
   "cell_type": "code",
   "execution_count": 16,
   "id": "56972b65",
   "metadata": {},
   "outputs": [],
   "source": [
    "forecast_df['ECL_pred'] = forecast_df['PD'] * forecast_df['EAD_pred'] * forecast_df['OpenAmt_YrMo'] * (1 - forecast_df['recovery_rate_pred'])"
   ]
  },
  {
   "cell_type": "code",
   "execution_count": 19,
   "id": "7f534b80",
   "metadata": {},
   "outputs": [],
   "source": [
    "lgd = pd.read_csv('../Data/LGD.csv', usecols = ['AcctID', 'Default_Date', 'Actual_CO', \n",
    "                                                'RecoveryAmt','ChargeOff_Event', 'default_Balance'])\n",
    "lgd['Default_Date'] = pd.to_datetime(lgd['Default_Date'])\n",
    "lgd['default_Balance'] = lgd.default_Balance.str.replace(\"[^0-9.]\",'', regex = True).astype(float)\n",
    "lgd['Actual_CO'] = lgd.Actual_CO.str.replace(\"[^0-9.]\",'', regex = True).astype(float)\n",
    "lgd['RecoveryAmt'] = lgd.RecoveryAmt.str.replace(\"[^0-9.]\",'', regex = True).astype(float)\n",
    "\n",
    "lgd['recovery_rate'] = (lgd.default_Balance - lgd[['default_Balance', 'Actual_CO']].min(axis = 1) \\\n",
    "                        + lgd['RecoveryAmt']) \\\n",
    "                                    / lgd.default_Balance\n",
    "lgd['Actual_CO'] = lgd['Actual_CO'].fillna(0)\n",
    "\n",
    "lgd['recovery_rate'] = np.where(np.logical_and(lgd['Actual_CO'] <= 0, lgd['ChargeOff_Event'] == 1), 0, lgd['recovery_rate'])\n",
    "lgd['recovery_rate'] = np.where(np.logical_and(lgd['Actual_CO'] <= 0, lgd['ChargeOff_Event'] == 0), 1, lgd['recovery_rate'])\n",
    "lgd['recovery_rate'] = lgd['recovery_rate'].clip(0,1)\n",
    "lgd['Actual_Loss'] = lgd['Actual_CO'] - lgd['RecoveryAmt']\n",
    "lgd = lgd[['AcctID', 'Default_Date', 'recovery_rate', 'Actual_Loss']].fillna(0)"
   ]
  },
  {
   "cell_type": "code",
   "execution_count": 20,
   "id": "d5b28245",
   "metadata": {},
   "outputs": [],
   "source": [
    "forecast_df = forecast_df.merge(lgd, left_on = ['AcctID', 'EOMDate'], right_on = ['AcctID', 'Default_Date'], how = 'left')"
   ]
  },
  {
   "cell_type": "code",
   "execution_count": 23,
   "id": "d39324a3",
   "metadata": {},
   "outputs": [],
   "source": [
    "forecast_df['Balance_Ratio'] = forecast_df['Unpaid_Balance_Amt'] / forecast_df['OpenAmt_YrMo']"
   ]
  },
  {
   "cell_type": "code",
   "execution_count": 24,
   "id": "525921d4",
   "metadata": {},
   "outputs": [],
   "source": [
    "forecast_df.to_csv('../Data/forecast.csv', index = False)"
   ]
  }
 ],
 "metadata": {
  "kernelspec": {
   "display_name": "Python 3 (ipykernel)",
   "language": "python",
   "name": "python3"
  },
  "language_info": {
   "codemirror_mode": {
    "name": "ipython",
    "version": 3
   },
   "file_extension": ".py",
   "mimetype": "text/x-python",
   "name": "python",
   "nbconvert_exporter": "python",
   "pygments_lexer": "ipython3",
   "version": "3.11.5"
  }
 },
 "nbformat": 4,
 "nbformat_minor": 5
}
